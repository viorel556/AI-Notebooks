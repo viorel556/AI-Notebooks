{
 "cells": [
  {
   "cell_type": "code",
   "execution_count": null,
   "metadata": {},
   "outputs": [],
   "source": [
    "## SIMPLE PLOT OF 2 DATA POINTS"
   ]
  },
  {
   "cell_type": "code",
   "execution_count": 5,
   "metadata": {},
   "outputs": [],
   "source": [
    "# imports \n",
    "import pandas as pd \n",
    "import numpy as np \n",
    "import matplotlib.pyplot as plt"
   ]
  },
  {
   "cell_type": "code",
   "execution_count": 7,
   "metadata": {
    "scrolled": true
   },
   "outputs": [
    {
     "data": {
      "image/png": "[encoded data removed]",
      "text/plain": [
       "<Figure size 432x288 with 1 Axes>"
      ]
     },
     "metadata": {},
     "output_type": "display_data"
    }
   ],
   "source": [
    "# Create a DataFrame with two data points\n",
    "data = {'X': [1, 2], 'Y': [3, 5]}\n",
    "df = pd.DataFrame(data)\n",
    "\n",
    "# Plot the data points\n",
    "plt.plot(df['X'], df['Y'], 'bo-')  # 'bo-' means blue color, circle markers, solid line\n",
    "plt.xlabel('X Axis')\n",
    "plt.ylabel('Y Axis')\n",
    "plt.title('Simple Plot of Two Data Points')\n",
    "plt.grid(True)\n",
    "plt.show()"
   ]
  },
  {
   "cell_type": "code",
   "execution_count": 34,
   "metadata": {},
   "outputs": [],
   "source": [
    "# VECTORS in NumPy: \n",
    "w = np.array([1, 2.5, -3.3]) # create a vector array ß\n",
    "x = np.array([10, 20, 30]) \n",
    "b = 4\n",
    "\n",
    "np.dot(w,x) # the product of 2 vectors (vector dimensions should be the same:   \n",
    "np.zeros(6) # vector of zeros \n",
    "a = np.arange(20) # creates a vector of 20 elements from 0 (last NOT INCLUSIVE) \n",
    "c = a[2:7:2] # sclicing with: start:stop:step\n",
    "s = np.sum(a) # sum all elements of a vector \n",
    "m = np.mean(a) # mean\n",
    "w + x # sum up vectors (they should have the same size) \n",
    "b = 5 * a # multiply by a scalar value "
   ]
  },
  {
   "cell_type": "code",
   "execution_count": 33,
   "metadata": {},
   "outputs": [
    {
     "name": "stdout",
     "output_type": "stream",
     "text": [
      "operands could not be broadcast together with shapes (10,) (2,) \n"
     ]
    }
   ],
   "source": [
    "# Try a mismatched vector operation\n",
    "a = np.arange(10) \n",
    "c = np.array([1, 2])\n",
    "\n",
    "try: d = a + c\n",
    "except Exception as e: print(e)"
   ]
  },
  {
   "cell_type": "code",
   "execution_count": 68,
   "metadata": {},
   "outputs": [],
   "source": [
    "# MATRIX in NumPy: \n",
    "np.zeros((3, 3)) # create a 3x3 matrix of zeros; \n",
    "np.random.random_sample((3, 3)) # a 3x3 matrix of random values from zero to one;  \n",
    "a = np.arange(6).reshape(3, 2) # matrix creation with arange (3 ROWS, 2 colums - 3x2 MATRIX)  \n",
    "\n",
    "# making a matrix manually \n",
    "# (1) create a multi dimensional arr   \n",
    "a = [ \n",
    "    [1,2,3], \n",
    "    [2,2,3],\n",
    "    [10,11,12]\n",
    "] \n",
    "# (2) convert arr to a numpy matrix \n",
    "a = np.array(a)"
   ]
  },
  {
   "cell_type": "code",
   "execution_count": 65,
   "metadata": {},
   "outputs": [],
   "source": []
  },
  {
   "cell_type": "code",
   "execution_count": null,
   "metadata": {},
   "outputs": [],
   "source": []
  }
 ],
 "metadata": {
  "kernelspec": {
   "display_name": "Python 3 (Spyder)",
   "language": "python3",
   "name": "python3"
  },
  "language_info": {
   "codemirror_mode": {
    "name": "ipython",
    "version": 3
   },
   "file_extension": ".py",
   "mimetype": "text/x-python",
   "name": "python",
   "nbconvert_exporter": "python",
   "pygments_lexer": "ipython3",
   "version": "3.12.4"
  },
  "panel-cell-order": [
   "832a0c97"
  ]
 },
 "nbformat": 4,
 "nbformat_minor": 4
}
